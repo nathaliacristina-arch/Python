{
 "cells": [
  {
   "cell_type": "code",
   "execution_count": null,
   "id": "ae58573c",
   "metadata": {},
   "outputs": [
    {
     "name": "stdout",
     "output_type": "stream",
     "text": [
      "\n",
      "Bem-vindo(a) ao jogo da forca!\n",
      "Adivinhe a palavra abaixo:\n",
      "\n",
      "_ _ _ _ _ _ _\n",
      "\n",
      "Chances restantes: 8\n",
      "Letras erradas: \n"
     ]
    }
   ],
   "source": [
    "# Import\n",
    "import random\n",
    "from os import system, name\n",
    "\n",
    "# Função para limpar a tela a cada execução\n",
    "def limpa_tela():\n",
    " \n",
    "    # Windows\n",
    "    if name == 'nt':\n",
    "        _ = system('cls')\n",
    " \n",
    "    # Mac ou Linux\n",
    "    else:\n",
    "        _ = system('clear')\n",
    "\n",
    "\n",
    "def game():\n",
    "    \n",
    "    limpa_tela()\n",
    "    print(\"\\nBem-vindo(a) ao jogo da forca!\")\n",
    "    print(\"Adivinhe a palavra abaixo:\\n\")\n",
    "    \n",
    "    palavras = ['uva', 'abacaxi', 'morango', 'melancia', 'melão', 'abacate', 'banana', 'laranja', 'mamão']\n",
    "    \n",
    "    palavra = random.choice(palavras) # palavra escolhida aleatoriamente \n",
    "    \n",
    "    # List comprehension\n",
    "    letras_descobertas = ['_' for letra in palavra] # lista de tracinhos para cada letra da palavra\n",
    "\n",
    "    letras_error = [] # lista que armazena as letras erradas já digitadas\n",
    "\n",
    "    chances = 8 # chances que o usuário possui\n",
    "\n",
    "    # Loop enquanto número de chances for maior do que zero\n",
    "    while chances > 0:\n",
    "\n",
    "        print(\" \".join(letras_descobertas))\n",
    "        print(\"\\nChances restantes:\", chances)\n",
    "        print(\"Letras erradas:\", \" \".join(letras_error))\n",
    "\n",
    "        # Tentativa\n",
    "        tentativa = input(\"\\nDigite uma letra: \").lower() # espera uma resposta do usuário e a salva em letra minúscula\n",
    "\n",
    "        # Condicional\n",
    "        if tentativa in palavra: # tentativa = letra que o usuário digitou\n",
    "            index = 0 # índice zero\n",
    "            for letra in palavra: # A cada letra digitada verifica-se na palavra escolhida\n",
    "                if tentativa == letra:\n",
    "                    letras_descobertas[index] = letra\n",
    "                index += 1\n",
    "\n",
    "        else:\n",
    "            chances -= 1 # Correção aqui, diminuir as chances\n",
    "            letras_error.append(tentativa)\n",
    "\n",
    "        # Condicional\n",
    "        if \"_\" not in letras_descobertas: # caso não tiver mais traços, acaba o jogo\n",
    "            print(\"\\nVocê venceu, a palavra era:\", palavra)\n",
    "            break\n",
    "\n",
    "    # Condicional\n",
    "    if \"_\" in letras_descobertas:\n",
    "        print(\"\\nVocê perdeu, a palavra era:\", palavra)\n",
    "\n",
    "\n",
    "# Bloco main\n",
    "if __name__ == \"__main__\":\n",
    "    game()\n",
    "    print(\"\\nParabéns!)\\n\")\n"
   ]
  },
  {
   "cell_type": "code",
   "execution_count": null,
   "id": "bcb51ad6",
   "metadata": {},
   "outputs": [],
   "source": []
  }
 ],
 "metadata": {
  "kernelspec": {
   "display_name": "Python 3 (ipykernel)",
   "language": "python",
   "name": "python3"
  },
  "language_info": {
   "codemirror_mode": {
    "name": "ipython",
    "version": 3
   },
   "file_extension": ".py",
   "mimetype": "text/x-python",
   "name": "python",
   "nbconvert_exporter": "python",
   "pygments_lexer": "ipython3",
   "version": "3.9.13"
  }
 },
 "nbformat": 4,
 "nbformat_minor": 5
}
